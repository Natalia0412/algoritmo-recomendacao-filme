{
 "cells": [
  {
   "cell_type": "code",
   "id": "initial_id",
   "metadata": {
    "collapsed": true,
    "ExecuteTime": {
     "end_time": "2024-06-20T16:10:27.713676Z",
     "start_time": "2024-06-20T16:10:27.654994Z"
    }
   },
   "source": [
    "import pandas as pd\n",
    "import numpy as np\n",
    "\n",
    "# Carregando os dados\n",
    "caminho = \"C:\\\\Users\\\\natal\\\\OneDrive\\\\Área de Trabalho\\\\Estudo Python\\\\SistemaRecomendacao\\\\ml-latest-small\"\n",
    "caminho_arquivo = caminho + \"\\\\movies.csv\"\n",
    "filmes = pd.read_csv(caminho_arquivo)\n",
    "filmes.columns = [\"filmeId\", \"titulo\", \"genero\"]\n",
    "filmes = filmes.set_index(\"filmeId\")\n",
    "\n",
    "caminho_arquivo = caminho + \"\\\\ratings.csv\"\n",
    "notas = pd.read_csv(caminho_arquivo)\n",
    "notas.columns = [\"usuarioId\", \"filmeId\", \"nota\", \"momento\"]"
   ],
   "outputs": [],
   "execution_count": 5
  },
  {
   "metadata": {
    "ExecuteTime": {
     "end_time": "2024-06-20T16:13:41.377772Z",
     "start_time": "2024-06-20T16:13:41.370682Z"
    }
   },
   "cell_type": "code",
   "source": "len(filmes)",
   "id": "33fa74f3cfc24f16",
   "outputs": [
    {
     "data": {
      "text/plain": [
       "9742"
      ]
     },
     "execution_count": 8,
     "metadata": {},
     "output_type": "execute_result"
    }
   ],
   "execution_count": 8
  },
  {
   "metadata": {
    "ExecuteTime": {
     "end_time": "2024-06-20T16:44:53.069674Z",
     "start_time": "2024-06-20T16:44:53.050884Z"
    }
   },
   "cell_type": "code",
   "source": [
    "# Calculando o total de votos por filme e a média das notas por filme\n",
    "total_de_votos = notas[\"filmeId\"].value_counts()\n",
    "filmes[\"total_votos\"] = total_de_votos\n",
    "\n",
    "media_das_notas = notas.groupby(\"filmeId\").mean()[\"nota\"]\n",
    "filmes[\"media_das_notas\"] = media_das_notas\n",
    "\n",
    "\n",
    "filmes_com_mais_de_cinquenta_votos = filmes.query(\"total_votos> 50\")\n"
   ],
   "id": "d6a4e0bc585e6c7f",
   "outputs": [],
   "execution_count": 25
  },
  {
   "metadata": {
    "ExecuteTime": {
     "end_time": "2024-06-20T16:54:13.603189Z",
     "start_time": "2024-06-20T16:54:13.597439Z"
    }
   },
   "cell_type": "code",
   "source": [
    "def notas_do_usuario(usuario):\n",
    "    notas_do_usuario = notas.query(\"usuarioId==%d\" % usuario)\n",
    "    notas_do_usuario = notas_do_usuario[[\"filmeId\", \"nota\"]].set_index([\"filmeId\"])\n",
    "    return notas_do_usuario"
   ],
   "id": "71904697c5ccee26",
   "outputs": [],
   "execution_count": 30
  },
  {
   "metadata": {
    "ExecuteTime": {
     "end_time": "2024-06-20T16:54:16.466858Z",
     "start_time": "2024-06-20T16:54:16.460370Z"
    }
   },
   "cell_type": "code",
   "source": [
    "def distancia_de_vetores(a,b):\n",
    "    return np.linalg.norm(a - b)"
   ],
   "id": "d464e095eb1231c5",
   "outputs": [],
   "execution_count": 31
  },
  {
   "metadata": {
    "ExecuteTime": {
     "end_time": "2024-06-20T16:55:52.248385Z",
     "start_time": "2024-06-20T16:55:52.240327Z"
    }
   },
   "cell_type": "code",
   "source": [
    "def distancia_de_usuarios(usuarioId1, usuarioId2):\n",
    "    notas1 = notas_do_usuario(usuarioId1)\n",
    "    notas2 = notas_do_usuario(usuarioId2)\n",
    "    diferencas = notas1.join(notas2, lsuffix = \"_esquerda\", rsuffix = \"_direita\").dropna()\n",
    "    distancia = distancia_de_vetores(diferencas['nota_esquerda'], diferencas['nota_direita'])\n",
    "    return [usuarioId1, usuarioId2, distancia]"
   ],
   "id": "913ad4c26ed5a82",
   "outputs": [],
   "execution_count": 32
  },
  {
   "metadata": {
    "ExecuteTime": {
     "end_time": "2024-06-20T16:58:46.199241Z",
     "start_time": "2024-06-20T16:58:46.193145Z"
    }
   },
   "cell_type": "code",
   "source": [
    "def distancia_de_todos(voce_id, numero_de_usuarios_a_analisar  = None):\n",
    "    todos_os_usuarios = notas['usuarioId'].unique()\n",
    "    if numero_de_usuarios_a_analisar:\n",
    "        todos_os_usuarios = todos_os_usuarios[:numero_de_usuarios_a_analisar ]\n",
    "    distancias = [distancia_de_usuarios(voce_id, usuario_Id) for usuario_Id in todos_os_usuarios]\n",
    "    distancias = list(filter(None, distancias))\n",
    "    distancias = pd.DataFrame(distancias, columns = [\"você\", \"outra_pessoa\", \"distancia\"])\n",
    "    return distancias"
   ],
   "id": "d6ef7b01c3c47059",
   "outputs": [],
   "execution_count": 35
  },
  {
   "metadata": {
    "ExecuteTime": {
     "end_time": "2024-06-20T17:10:35.588790Z",
     "start_time": "2024-06-20T17:10:35.562705Z"
    }
   },
   "cell_type": "code",
   "source": "notas = notas.set_index(\"filmeId\").loc[filmes_com_mais_de_cinquenta_votos.index]",
   "id": "e3c8f3d0a5b95b",
   "outputs": [],
   "execution_count": 43
  },
  {
   "metadata": {
    "ExecuteTime": {
     "end_time": "2024-06-20T17:10:37.758766Z",
     "start_time": "2024-06-20T17:10:37.753673Z"
    }
   },
   "cell_type": "code",
   "source": [
    "def knn(voce_id, k_mais_proximos=10, numero_de_usuarios_a_analisar = None):\n",
    "  distancias = distancia_de_todos(voce_id, numero_de_usuarios_a_analisar = numero_de_usuarios_a_analisar)\n",
    "  distancias = distancias.sort_values(\"distancia\")\n",
    "  distancias = distancias.set_index(\"outra_pessoa\").drop(voce_id, errors='ignore')\n",
    "  return distancias.head(k_mais_proximos)"
   ],
   "id": "62b17c7c94891bf5",
   "outputs": [],
   "execution_count": 44
  },
  {
   "metadata": {
    "ExecuteTime": {
     "end_time": "2024-06-20T17:10:40.071542Z",
     "start_time": "2024-06-20T17:10:40.065562Z"
    }
   },
   "cell_type": "code",
   "source": [
    "def sugere_para(voce, k_mais_proximos = 10, numero_de_usuarios_a_analisar = None):\n",
    "  notas_de_voce = notas_do_usuario(voce)\n",
    "  filmes_que_voce_ja_viu = notas_de_voce.index\n",
    "\n",
    "  similares = knn(voce, k_mais_proximos = k_mais_proximos, numero_de_usuarios_a_analisar = numero_de_usuarios_a_analisar)\n",
    "  usuarios_similares = similares.index\n",
    "  notas_dos_similares = notas.set_index(\"usuarioId\").loc[usuarios_similares]\n",
    "  recomendacoes = notas_dos_similares.groupby(\"filmeId\").mean()[[\"nota\"]]\n",
    "  aparicoes = notas_dos_similares.groupby(\"filmeId\").count()[['nota']]\n",
    "  \n",
    "  filtro_minimo = k_mais_proximos / 2\n",
    "  recomendacoes = recomendacoes.join(aparicoes, lsuffix=\"_media_dos_usuarios\", rsuffix=\"_aparicoes_nos_usuarios\")\n",
    "  recomendacoes = recomendacoes.query(\"nota_aparicoes_nos_usuarios >= %.2f\" % filtro_minimo)  \n",
    "  recomendacoes = recomendacoes.sort_values(\"nota_media_dos_usuarios\", ascending=False)\n",
    "  recomendacoes = recomendacoes.drop(filmes_que_voce_ja_viu,errors='ignore')\n",
    "  return recomendacoes.join(filmes)"
   ],
   "id": "5debe8334ed470db",
   "outputs": [],
   "execution_count": 45
  },
  {
   "metadata": {
    "ExecuteTime": {
     "end_time": "2024-06-20T17:10:43.741833Z",
     "start_time": "2024-06-20T17:10:42.522979Z"
    }
   },
   "cell_type": "code",
   "source": "sugere_para(1)",
   "id": "f3e50b3bc1444528",
   "outputs": [
    {
     "ename": "KeyError",
     "evalue": "\"['filmeId'] not in index\"",
     "output_type": "error",
     "traceback": [
      "\u001B[1;31m---------------------------------------------------------------------------\u001B[0m",
      "\u001B[1;31mKeyError\u001B[0m                                  Traceback (most recent call last)",
      "Cell \u001B[1;32mIn[46], line 1\u001B[0m\n\u001B[1;32m----> 1\u001B[0m sugere_para(\u001B[38;5;241m1\u001B[39m)\n",
      "Cell \u001B[1;32mIn[45], line 2\u001B[0m, in \u001B[0;36msugere_para\u001B[1;34m(voce, k_mais_proximos, numero_de_usuarios_a_analisar)\u001B[0m\n\u001B[0;32m      1\u001B[0m \u001B[38;5;28;01mdef\u001B[39;00m \u001B[38;5;21msugere_para\u001B[39m(voce, k_mais_proximos \u001B[38;5;241m=\u001B[39m \u001B[38;5;241m10\u001B[39m, numero_de_usuarios_a_analisar \u001B[38;5;241m=\u001B[39m \u001B[38;5;28;01mNone\u001B[39;00m):\n\u001B[1;32m----> 2\u001B[0m   notas_de_voce \u001B[38;5;241m=\u001B[39m notas_do_usuario(voce)\n\u001B[0;32m      3\u001B[0m   filmes_que_voce_ja_viu \u001B[38;5;241m=\u001B[39m notas_de_voce\u001B[38;5;241m.\u001B[39mindex\n\u001B[0;32m      5\u001B[0m   similares \u001B[38;5;241m=\u001B[39m knn(voce, k_mais_proximos \u001B[38;5;241m=\u001B[39m k_mais_proximos, numero_de_usuarios_a_analisar \u001B[38;5;241m=\u001B[39m numero_de_usuarios_a_analisar)\n",
      "Cell \u001B[1;32mIn[30], line 3\u001B[0m, in \u001B[0;36mnotas_do_usuario\u001B[1;34m(usuario)\u001B[0m\n\u001B[0;32m      1\u001B[0m \u001B[38;5;28;01mdef\u001B[39;00m \u001B[38;5;21mnotas_do_usuario\u001B[39m(usuario):\n\u001B[0;32m      2\u001B[0m     notas_do_usuario \u001B[38;5;241m=\u001B[39m notas\u001B[38;5;241m.\u001B[39mquery(\u001B[38;5;124m\"\u001B[39m\u001B[38;5;124musuarioId==\u001B[39m\u001B[38;5;132;01m%d\u001B[39;00m\u001B[38;5;124m\"\u001B[39m \u001B[38;5;241m%\u001B[39m usuario)\n\u001B[1;32m----> 3\u001B[0m     notas_do_usuario \u001B[38;5;241m=\u001B[39m notas_do_usuario[[\u001B[38;5;124m\"\u001B[39m\u001B[38;5;124mfilmeId\u001B[39m\u001B[38;5;124m\"\u001B[39m, \u001B[38;5;124m\"\u001B[39m\u001B[38;5;124mnota\u001B[39m\u001B[38;5;124m\"\u001B[39m]]\u001B[38;5;241m.\u001B[39mset_index([\u001B[38;5;124m\"\u001B[39m\u001B[38;5;124mfilmeId\u001B[39m\u001B[38;5;124m\"\u001B[39m])\n\u001B[0;32m      4\u001B[0m     \u001B[38;5;28;01mreturn\u001B[39;00m notas_do_usuario\n",
      "File \u001B[1;32m~\\miniconda3\\Lib\\site-packages\\pandas\\core\\frame.py:4108\u001B[0m, in \u001B[0;36mDataFrame.__getitem__\u001B[1;34m(self, key)\u001B[0m\n\u001B[0;32m   4106\u001B[0m     \u001B[38;5;28;01mif\u001B[39;00m is_iterator(key):\n\u001B[0;32m   4107\u001B[0m         key \u001B[38;5;241m=\u001B[39m \u001B[38;5;28mlist\u001B[39m(key)\n\u001B[1;32m-> 4108\u001B[0m     indexer \u001B[38;5;241m=\u001B[39m \u001B[38;5;28mself\u001B[39m\u001B[38;5;241m.\u001B[39mcolumns\u001B[38;5;241m.\u001B[39m_get_indexer_strict(key, \u001B[38;5;124m\"\u001B[39m\u001B[38;5;124mcolumns\u001B[39m\u001B[38;5;124m\"\u001B[39m)[\u001B[38;5;241m1\u001B[39m]\n\u001B[0;32m   4110\u001B[0m \u001B[38;5;66;03m# take() does not accept boolean indexers\u001B[39;00m\n\u001B[0;32m   4111\u001B[0m \u001B[38;5;28;01mif\u001B[39;00m \u001B[38;5;28mgetattr\u001B[39m(indexer, \u001B[38;5;124m\"\u001B[39m\u001B[38;5;124mdtype\u001B[39m\u001B[38;5;124m\"\u001B[39m, \u001B[38;5;28;01mNone\u001B[39;00m) \u001B[38;5;241m==\u001B[39m \u001B[38;5;28mbool\u001B[39m:\n",
      "File \u001B[1;32m~\\miniconda3\\Lib\\site-packages\\pandas\\core\\indexes\\base.py:6200\u001B[0m, in \u001B[0;36mIndex._get_indexer_strict\u001B[1;34m(self, key, axis_name)\u001B[0m\n\u001B[0;32m   6197\u001B[0m \u001B[38;5;28;01melse\u001B[39;00m:\n\u001B[0;32m   6198\u001B[0m     keyarr, indexer, new_indexer \u001B[38;5;241m=\u001B[39m \u001B[38;5;28mself\u001B[39m\u001B[38;5;241m.\u001B[39m_reindex_non_unique(keyarr)\n\u001B[1;32m-> 6200\u001B[0m \u001B[38;5;28mself\u001B[39m\u001B[38;5;241m.\u001B[39m_raise_if_missing(keyarr, indexer, axis_name)\n\u001B[0;32m   6202\u001B[0m keyarr \u001B[38;5;241m=\u001B[39m \u001B[38;5;28mself\u001B[39m\u001B[38;5;241m.\u001B[39mtake(indexer)\n\u001B[0;32m   6203\u001B[0m \u001B[38;5;28;01mif\u001B[39;00m \u001B[38;5;28misinstance\u001B[39m(key, Index):\n\u001B[0;32m   6204\u001B[0m     \u001B[38;5;66;03m# GH 42790 - Preserve name from an Index\u001B[39;00m\n",
      "File \u001B[1;32m~\\miniconda3\\Lib\\site-packages\\pandas\\core\\indexes\\base.py:6252\u001B[0m, in \u001B[0;36mIndex._raise_if_missing\u001B[1;34m(self, key, indexer, axis_name)\u001B[0m\n\u001B[0;32m   6249\u001B[0m     \u001B[38;5;28;01mraise\u001B[39;00m \u001B[38;5;167;01mKeyError\u001B[39;00m(\u001B[38;5;124mf\u001B[39m\u001B[38;5;124m\"\u001B[39m\u001B[38;5;124mNone of [\u001B[39m\u001B[38;5;132;01m{\u001B[39;00mkey\u001B[38;5;132;01m}\u001B[39;00m\u001B[38;5;124m] are in the [\u001B[39m\u001B[38;5;132;01m{\u001B[39;00maxis_name\u001B[38;5;132;01m}\u001B[39;00m\u001B[38;5;124m]\u001B[39m\u001B[38;5;124m\"\u001B[39m)\n\u001B[0;32m   6251\u001B[0m not_found \u001B[38;5;241m=\u001B[39m \u001B[38;5;28mlist\u001B[39m(ensure_index(key)[missing_mask\u001B[38;5;241m.\u001B[39mnonzero()[\u001B[38;5;241m0\u001B[39m]]\u001B[38;5;241m.\u001B[39munique())\n\u001B[1;32m-> 6252\u001B[0m \u001B[38;5;28;01mraise\u001B[39;00m \u001B[38;5;167;01mKeyError\u001B[39;00m(\u001B[38;5;124mf\u001B[39m\u001B[38;5;124m\"\u001B[39m\u001B[38;5;132;01m{\u001B[39;00mnot_found\u001B[38;5;132;01m}\u001B[39;00m\u001B[38;5;124m not in index\u001B[39m\u001B[38;5;124m\"\u001B[39m)\n",
      "\u001B[1;31mKeyError\u001B[0m: \"['filmeId'] not in index\""
     ]
    }
   ],
   "execution_count": 46
  },
  {
   "metadata": {},
   "cell_type": "code",
   "outputs": [],
   "execution_count": null,
   "source": "",
   "id": "64cad3de5d423401"
  }
 ],
 "metadata": {
  "kernelspec": {
   "display_name": "Python 3",
   "language": "python",
   "name": "python3"
  },
  "language_info": {
   "codemirror_mode": {
    "name": "ipython",
    "version": 2
   },
   "file_extension": ".py",
   "mimetype": "text/x-python",
   "name": "python",
   "nbconvert_exporter": "python",
   "pygments_lexer": "ipython2",
   "version": "2.7.6"
  }
 },
 "nbformat": 4,
 "nbformat_minor": 5
}
