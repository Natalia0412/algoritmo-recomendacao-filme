{
 "cells": [
  {
   "cell_type": "code",
   "id": "initial_id",
   "metadata": {
    "collapsed": true,
    "ExecuteTime": {
     "end_time": "2024-06-20T15:35:17.961742Z",
     "start_time": "2024-06-20T15:35:17.904073Z"
    }
   },
   "source": [
    "import pandas as pd\n",
    "import numpy as np\n",
    "caminho = \"C:\\\\Users\\\\natal\\\\OneDrive\\\\Área de Trabalho\\\\Estudo Python\\\\SistemaRecomendacao\\\\ml-latest-small\"\n",
    "caminho_arquivo = caminho + \"\\\\movies.csv\"\n",
    "filmes = pd.read_csv(caminho_arquivo)\n",
    "filmes.columns = [\"filmeId\", \"titulo\", \"genero\"]\n",
    "filmes = filmes.set_index(\"filmeId\")\n",
    "\n",
    "caminho_arquivo = caminho + \"\\\\ratings.csv\"\n",
    "notas = pd.read_csv(caminho_arquivo)\n",
    "notas.columns = [\"usuarioId\", \"filmeId\", \"nota\", \"momento\"]"
   ],
   "outputs": [],
   "execution_count": 14
  },
  {
   "metadata": {},
   "cell_type": "code",
   "outputs": [],
   "execution_count": null,
   "source": [
    "total_de_votos = notas[\"filmeId\"].value_counts()\n",
    "filmes['total_de_votos'] = total_de_votos\n",
    "\n",
    "nota_medias = notas.groupby(\"filmeId\").mean()[\"nota\"]\n",
    "filmes[\"nota_media\"] = nota_medias"
   ],
   "id": "47c99c92e07b5aea"
  },
  {
   "metadata": {
    "ExecuteTime": {
     "end_time": "2024-06-20T15:36:38.152837Z",
     "start_time": "2024-06-20T15:36:38.140118Z"
    }
   },
   "cell_type": "code",
   "source": [
    "filmes_com_mais_de_cinquenta_votos = filmes.query(\"total_de_votos > 50\")\n",
    "filmes_com_mais_de_cinquenta_votos.sort_values(\"nota_media\", ascending = False).head(10)"
   ],
   "id": "19e680a917266309",
   "outputs": [
    {
     "data": {
      "text/plain": [
       "                                                    titulo  \\\n",
       "filmeId                                                      \n",
       "318                       Shawshank Redemption, The (1994)   \n",
       "858                                  Godfather, The (1972)   \n",
       "2959                                     Fight Club (1999)   \n",
       "1276                                 Cool Hand Luke (1967)   \n",
       "750      Dr. Strangelove or: How I Learned to Stop Worr...   \n",
       "904                                     Rear Window (1954)   \n",
       "1221                        Godfather: Part II, The (1974)   \n",
       "48516                                 Departed, The (2006)   \n",
       "1213                                     Goodfellas (1990)   \n",
       "912                                      Casablanca (1942)   \n",
       "\n",
       "                              genero  total_de_votos  nota_media  \n",
       "filmeId                                                           \n",
       "318                      Crime|Drama           317.0    4.429022  \n",
       "858                      Crime|Drama           192.0    4.289062  \n",
       "2959     Action|Crime|Drama|Thriller           218.0    4.272936  \n",
       "1276                           Drama            57.0    4.271930  \n",
       "750                       Comedy|War            97.0    4.268041  \n",
       "904                 Mystery|Thriller            84.0    4.261905  \n",
       "1221                     Crime|Drama           129.0    4.259690  \n",
       "48516           Crime|Drama|Thriller           107.0    4.252336  \n",
       "1213                     Crime|Drama           126.0    4.250000  \n",
       "912                    Drama|Romance           100.0    4.240000  "
      ],
      "text/html": [
       "<div>\n",
       "<style scoped>\n",
       "    .dataframe tbody tr th:only-of-type {\n",
       "        vertical-align: middle;\n",
       "    }\n",
       "\n",
       "    .dataframe tbody tr th {\n",
       "        vertical-align: top;\n",
       "    }\n",
       "\n",
       "    .dataframe thead th {\n",
       "        text-align: right;\n",
       "    }\n",
       "</style>\n",
       "<table border=\"1\" class=\"dataframe\">\n",
       "  <thead>\n",
       "    <tr style=\"text-align: right;\">\n",
       "      <th></th>\n",
       "      <th>titulo</th>\n",
       "      <th>genero</th>\n",
       "      <th>total_de_votos</th>\n",
       "      <th>nota_media</th>\n",
       "    </tr>\n",
       "    <tr>\n",
       "      <th>filmeId</th>\n",
       "      <th></th>\n",
       "      <th></th>\n",
       "      <th></th>\n",
       "      <th></th>\n",
       "    </tr>\n",
       "  </thead>\n",
       "  <tbody>\n",
       "    <tr>\n",
       "      <th>318</th>\n",
       "      <td>Shawshank Redemption, The (1994)</td>\n",
       "      <td>Crime|Drama</td>\n",
       "      <td>317.0</td>\n",
       "      <td>4.429022</td>\n",
       "    </tr>\n",
       "    <tr>\n",
       "      <th>858</th>\n",
       "      <td>Godfather, The (1972)</td>\n",
       "      <td>Crime|Drama</td>\n",
       "      <td>192.0</td>\n",
       "      <td>4.289062</td>\n",
       "    </tr>\n",
       "    <tr>\n",
       "      <th>2959</th>\n",
       "      <td>Fight Club (1999)</td>\n",
       "      <td>Action|Crime|Drama|Thriller</td>\n",
       "      <td>218.0</td>\n",
       "      <td>4.272936</td>\n",
       "    </tr>\n",
       "    <tr>\n",
       "      <th>1276</th>\n",
       "      <td>Cool Hand Luke (1967)</td>\n",
       "      <td>Drama</td>\n",
       "      <td>57.0</td>\n",
       "      <td>4.271930</td>\n",
       "    </tr>\n",
       "    <tr>\n",
       "      <th>750</th>\n",
       "      <td>Dr. Strangelove or: How I Learned to Stop Worr...</td>\n",
       "      <td>Comedy|War</td>\n",
       "      <td>97.0</td>\n",
       "      <td>4.268041</td>\n",
       "    </tr>\n",
       "    <tr>\n",
       "      <th>904</th>\n",
       "      <td>Rear Window (1954)</td>\n",
       "      <td>Mystery|Thriller</td>\n",
       "      <td>84.0</td>\n",
       "      <td>4.261905</td>\n",
       "    </tr>\n",
       "    <tr>\n",
       "      <th>1221</th>\n",
       "      <td>Godfather: Part II, The (1974)</td>\n",
       "      <td>Crime|Drama</td>\n",
       "      <td>129.0</td>\n",
       "      <td>4.259690</td>\n",
       "    </tr>\n",
       "    <tr>\n",
       "      <th>48516</th>\n",
       "      <td>Departed, The (2006)</td>\n",
       "      <td>Crime|Drama|Thriller</td>\n",
       "      <td>107.0</td>\n",
       "      <td>4.252336</td>\n",
       "    </tr>\n",
       "    <tr>\n",
       "      <th>1213</th>\n",
       "      <td>Goodfellas (1990)</td>\n",
       "      <td>Crime|Drama</td>\n",
       "      <td>126.0</td>\n",
       "      <td>4.250000</td>\n",
       "    </tr>\n",
       "    <tr>\n",
       "      <th>912</th>\n",
       "      <td>Casablanca (1942)</td>\n",
       "      <td>Drama|Romance</td>\n",
       "      <td>100.0</td>\n",
       "      <td>4.240000</td>\n",
       "    </tr>\n",
       "  </tbody>\n",
       "</table>\n",
       "</div>"
      ]
     },
     "execution_count": 19,
     "metadata": {},
     "output_type": "execute_result"
    }
   ],
   "execution_count": 19
  },
  {
   "metadata": {},
   "cell_type": "code",
   "outputs": [],
   "execution_count": 15,
   "source": [
    "def distancia_de_vetores(a,b):\n",
    "    return np.linalg.norm(a - b)"
   ],
   "id": "2dc3f85e2dbb1204"
  },
  {
   "metadata": {
    "ExecuteTime": {
     "end_time": "2024-06-20T15:36:54.089593Z",
     "start_time": "2024-06-20T15:36:54.083854Z"
    }
   },
   "cell_type": "code",
   "source": [
    "def notas_do_usuario(usuario):\n",
    "    notas_do_usuario = notas.query(\"usuarioId==%d\" % usuario)\n",
    "    notas_do_usuario = notas_do_usuario[[\"filmeId\", \"nota\"]].set_index([\"filmeId\"])\n",
    "    return notas_do_usuario"
   ],
   "id": "28d90330c23210ec",
   "outputs": [],
   "execution_count": 20
  },
  {
   "metadata": {
    "ExecuteTime": {
     "end_time": "2024-06-20T15:36:56.990396Z",
     "start_time": "2024-06-20T15:36:56.984376Z"
    }
   },
   "cell_type": "code",
   "source": [
    "def distancia_de_usuarios(usuarioId1, usuarioId2):\n",
    "    notas1 = notas_do_usuario(usuarioId1)\n",
    "    notas2 = notas_do_usuario(usuarioId2)\n",
    "    diferencas = notas1.join(notas2, lsuffix = \"_esquerda\", rsuffix = \"_direita\").dropna()\n",
    "    distancia = distancia_de_vetores(diferencas['nota_esquerda'], diferencas['nota_direita'])\n",
    "    return [usuarioId1, usuarioId2, distancia]"
   ],
   "id": "2ba6006e6c04517d",
   "outputs": [],
   "execution_count": 21
  },
  {
   "metadata": {
    "ExecuteTime": {
     "end_time": "2024-06-20T15:36:59.834234Z",
     "start_time": "2024-06-20T15:36:59.827600Z"
    }
   },
   "cell_type": "code",
   "source": [
    "def distancia_de_todos(voce_id, numero_de_usuarios_a_analisar  = None):\n",
    "    todos_os_usuarios = notas['usuarioId'].unique()\n",
    "    if numero_de_usuarios_a_analisar:\n",
    "        todos_os_usuarios = todos_os_usuarios[:numero_de_usuarios_a_analisar ]\n",
    "    distancias = [distancia_de_usuarios(voce_id, usuario_Id) for usuario_Id in todos_os_usuarios]\n",
    "    distancias = list(filter(None, distancias))\n",
    "    distancias = pd.DataFrame(distancias, columns = [\"você\", \"outra_pessoa\", \"distancia\"])\n",
    "    return distancias"
   ],
   "id": "72a6462d8846a9c6",
   "outputs": [],
   "execution_count": 22
  },
  {
   "metadata": {
    "ExecuteTime": {
     "end_time": "2024-06-20T15:37:02.644770Z",
     "start_time": "2024-06-20T15:37:02.618245Z"
    }
   },
   "cell_type": "code",
   "source": "notas = notas.set_index(\"filmeId\").loc[filmes_com_mais_de_cinquenta_votos.index]",
   "id": "d2b55ea6fb8231ad",
   "outputs": [],
   "execution_count": 23
  },
  {
   "metadata": {
    "ExecuteTime": {
     "end_time": "2024-06-20T15:37:04.744823Z",
     "start_time": "2024-06-20T15:37:04.732471Z"
    }
   },
   "cell_type": "code",
   "source": [
    "notas = notas.reset_index()\n",
    "notas.head()"
   ],
   "id": "a994f1b812091f1d",
   "outputs": [
    {
     "data": {
      "text/plain": [
       "   filmeId  usuarioId  nota     momento\n",
       "0        1          1   4.0   964982703\n",
       "1        1          5   4.0   847434962\n",
       "2        1          7   4.5  1106635946\n",
       "3        1         15   2.5  1510577970\n",
       "4        1         17   4.5  1305696483"
      ],
      "text/html": [
       "<div>\n",
       "<style scoped>\n",
       "    .dataframe tbody tr th:only-of-type {\n",
       "        vertical-align: middle;\n",
       "    }\n",
       "\n",
       "    .dataframe tbody tr th {\n",
       "        vertical-align: top;\n",
       "    }\n",
       "\n",
       "    .dataframe thead th {\n",
       "        text-align: right;\n",
       "    }\n",
       "</style>\n",
       "<table border=\"1\" class=\"dataframe\">\n",
       "  <thead>\n",
       "    <tr style=\"text-align: right;\">\n",
       "      <th></th>\n",
       "      <th>filmeId</th>\n",
       "      <th>usuarioId</th>\n",
       "      <th>nota</th>\n",
       "      <th>momento</th>\n",
       "    </tr>\n",
       "  </thead>\n",
       "  <tbody>\n",
       "    <tr>\n",
       "      <th>0</th>\n",
       "      <td>1</td>\n",
       "      <td>1</td>\n",
       "      <td>4.0</td>\n",
       "      <td>964982703</td>\n",
       "    </tr>\n",
       "    <tr>\n",
       "      <th>1</th>\n",
       "      <td>1</td>\n",
       "      <td>5</td>\n",
       "      <td>4.0</td>\n",
       "      <td>847434962</td>\n",
       "    </tr>\n",
       "    <tr>\n",
       "      <th>2</th>\n",
       "      <td>1</td>\n",
       "      <td>7</td>\n",
       "      <td>4.5</td>\n",
       "      <td>1106635946</td>\n",
       "    </tr>\n",
       "    <tr>\n",
       "      <th>3</th>\n",
       "      <td>1</td>\n",
       "      <td>15</td>\n",
       "      <td>2.5</td>\n",
       "      <td>1510577970</td>\n",
       "    </tr>\n",
       "    <tr>\n",
       "      <th>4</th>\n",
       "      <td>1</td>\n",
       "      <td>17</td>\n",
       "      <td>4.5</td>\n",
       "      <td>1305696483</td>\n",
       "    </tr>\n",
       "  </tbody>\n",
       "</table>\n",
       "</div>"
      ]
     },
     "execution_count": 24,
     "metadata": {},
     "output_type": "execute_result"
    }
   ],
   "execution_count": 24
  },
  {
   "metadata": {
    "ExecuteTime": {
     "end_time": "2024-06-20T15:37:15.272447Z",
     "start_time": "2024-06-20T15:37:15.266704Z"
    }
   },
   "cell_type": "code",
   "source": [
    "def knn(voce_id, k_mais_proximos=10, numero_de_usuarios_a_analisar = None):\n",
    "  distancias = distancia_de_todos(voce_id, numero_de_usuarios_a_analisar = numero_de_usuarios_a_analisar)\n",
    "  distancias = distancias.sort_values(\"distancia\")\n",
    "  distancias = distancias.set_index(\"outra_pessoa\").drop(voce_id, errors='ignore')\n",
    "  return distancias.head(k_mais_proximos)\n",
    "     "
   ],
   "id": "181b37b17c19858c",
   "outputs": [],
   "execution_count": 25
  },
  {
   "metadata": {
    "ExecuteTime": {
     "end_time": "2024-06-20T15:37:39.564983Z",
     "start_time": "2024-06-20T15:37:39.557791Z"
    }
   },
   "cell_type": "code",
   "source": [
    "def sugere_para(voce, k_mais_proximos = 10, numero_de_usuarios_a_analisar = None):\n",
    "  notas_de_voce = notas_do_usuario(voce)\n",
    "  filmes_que_voce_ja_viu = notas_de_voce.index\n",
    "\n",
    "  similares = knn(voce, k_mais_proximos = k_mais_proximos, numero_de_usuarios_a_analisar = numero_de_usuarios_a_analisar)\n",
    "  usuarios_similares = similares.index\n",
    "  notas_dos_similares = notas.set_index(\"usuarioId\").loc[usuarios_similares]\n",
    "  recomendacoes = notas_dos_similares.groupby(\"filmeId\").mean()[[\"nota\"]]\n",
    "  aparicoes = notas_dos_similares.groupby(\"filmeId\").count()[['nota']]\n",
    "  \n",
    "  filtro_minimo = k_mais_proximos / 2\n",
    "  recomendacoes = recomendacoes.join(aparicoes, lsuffix=\"_media_dos_usuarios\", rsuffix=\"_aparicoes_nos_usuarios\")\n",
    "  recomendacoes = recomendacoes.query(\"nota_aparicoes_nos_usuarios >= %.2f\" % filtro_minimo)  \n",
    "  recomendacoes = recomendacoes.sort_values(\"nota_media_dos_usuarios\", ascending=False)\n",
    "  recomendacoes = recomendacoes.drop(filmes_que_voce_ja_viu,errors='ignore')\n",
    "  return recomendacoes.join(filmes)"
   ],
   "id": "ed3ce5f9e6c96c57",
   "outputs": [],
   "execution_count": 27
  },
  {
   "metadata": {
    "ExecuteTime": {
     "end_time": "2024-06-20T15:37:45.847681Z",
     "start_time": "2024-06-20T15:37:43.140727Z"
    }
   },
   "cell_type": "code",
   "source": "sugere_para(1, numero_de_usuarios_a_analisar=500)",
   "id": "b1a907c632294b8d",
   "outputs": [
    {
     "data": {
      "text/plain": [
       "Empty DataFrame\n",
       "Columns: [nota_media_dos_usuarios, nota_aparicoes_nos_usuarios, titulo, genero, total_de_votos, nota_media]\n",
       "Index: []"
      ],
      "text/html": [
       "<div>\n",
       "<style scoped>\n",
       "    .dataframe tbody tr th:only-of-type {\n",
       "        vertical-align: middle;\n",
       "    }\n",
       "\n",
       "    .dataframe tbody tr th {\n",
       "        vertical-align: top;\n",
       "    }\n",
       "\n",
       "    .dataframe thead th {\n",
       "        text-align: right;\n",
       "    }\n",
       "</style>\n",
       "<table border=\"1\" class=\"dataframe\">\n",
       "  <thead>\n",
       "    <tr style=\"text-align: right;\">\n",
       "      <th></th>\n",
       "      <th>nota_media_dos_usuarios</th>\n",
       "      <th>nota_aparicoes_nos_usuarios</th>\n",
       "      <th>titulo</th>\n",
       "      <th>genero</th>\n",
       "      <th>total_de_votos</th>\n",
       "      <th>nota_media</th>\n",
       "    </tr>\n",
       "    <tr>\n",
       "      <th>filmeId</th>\n",
       "      <th></th>\n",
       "      <th></th>\n",
       "      <th></th>\n",
       "      <th></th>\n",
       "      <th></th>\n",
       "      <th></th>\n",
       "    </tr>\n",
       "  </thead>\n",
       "  <tbody>\n",
       "  </tbody>\n",
       "</table>\n",
       "</div>"
      ]
     },
     "execution_count": 28,
     "metadata": {},
     "output_type": "execute_result"
    }
   ],
   "execution_count": 28
  },
  {
   "metadata": {},
   "cell_type": "code",
   "outputs": [],
   "execution_count": null,
   "source": "",
   "id": "d82e8ebff0ec6139"
  }
 ],
 "metadata": {
  "kernelspec": {
   "display_name": "Python 3",
   "language": "python",
   "name": "python3"
  },
  "language_info": {
   "codemirror_mode": {
    "name": "ipython",
    "version": 2
   },
   "file_extension": ".py",
   "mimetype": "text/x-python",
   "name": "python",
   "nbconvert_exporter": "python",
   "pygments_lexer": "ipython2",
   "version": "2.7.6"
  }
 },
 "nbformat": 4,
 "nbformat_minor": 5
}
